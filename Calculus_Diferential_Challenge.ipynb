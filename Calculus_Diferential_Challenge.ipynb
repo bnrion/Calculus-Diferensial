{
  "nbformat": 4,
  "nbformat_minor": 0,
  "metadata": {
    "colab": {
      "provenance": [],
      "toc_visible": true
    },
    "kernelspec": {
      "name": "python3",
      "display_name": "Python 3"
    },
    "language_info": {
      "name": "python"
    }
  },
  "cells": [
    {
      "cell_type": "markdown",
      "source": [
        "#LIMIT"
      ],
      "metadata": {
        "id": "xoGg7W3c6u3D"
      }
    },
    {
      "cell_type": "code",
      "execution_count": null,
      "metadata": {
        "id": "PuTOjf1W3CA5",
        "colab": {
          "base_uri": "https://localhost:8080/"
        },
        "outputId": "234da1ea-ff59-4ab4-f955-2a01a4ab3070"
      },
      "outputs": [
        {
          "output_type": "stream",
          "name": "stdout",
          "text": [
            "Nilai limit f(x) saat x mendekati 1 adalah 12\n"
          ]
        }
      ],
      "source": [
        "#limit 1\n",
        "from sympy import *\n",
        "\n",
        "# Mendefinisikan variabel dan fungsi\n",
        "x = symbols('x')\n",
        "f = (x**2 - 9)/(x - 3)\n",
        "\n",
        "# Menghitung limit f(x) saat x mendekati 1\n",
        "limit_f = limit(f, x, 9)\n",
        "\n",
        "# Mencetak hasil limit\n",
        "print(\"Nilai limit f(x) saat x mendekati 1 adalah\", limit_f)\n"
      ]
    },
    {
      "cell_type": "code",
      "source": [
        "#limit trigonometri 2\n",
        "from sympy import *\n",
        "\n",
        "# Mendefinisikan variabel dan fungsi\n",
        "x = symbols('x')\n",
        "f = (x** + 2)/(x) * sin(x)\n",
        "\n",
        "# Menghitung limit f(x) saat x mendekati 2\n",
        "limit_f = limit(f, x, 2)\n",
        "\n",
        "# Mencetak hasil limit\n",
        "print(\"Nilai limit f(x) saat x mendekati 2 adalah\", limit_f)"
      ],
      "metadata": {
        "colab": {
          "base_uri": "https://localhost:8080/"
        },
        "id": "GzjKo1oP4aTs",
        "outputId": "717bdeb7-e394-4d64-9e36-cc058108af60"
      },
      "execution_count": null,
      "outputs": [
        {
          "output_type": "stream",
          "name": "stdout",
          "text": [
            "Nilai limit f(x) saat x mendekati 2 adalah 2*sin(2)\n"
          ]
        }
      ]
    },
    {
      "cell_type": "markdown",
      "source": [],
      "metadata": {
        "id": "Xo3m7VKk3jc8"
      }
    },
    {
      "cell_type": "code",
      "source": [
        "#limit trigonometri 3\n",
        "from sympy import *\n",
        "\n",
        "# Mendefinisikan variabel dan fungsi\n",
        "x = symbols('x')\n",
        "f = (2*x - pi) * cos(x)\n",
        "\n",
        "# Menghitung limit f(x) saat x mendekati 2\n",
        "limit_f = limit(f, x, 2)\n",
        "\n",
        "# Mencetak hasil limit\n",
        "print(\"Nilai limit f(x) saat x mendekati 2 adalah\", limit_f)"
      ],
      "metadata": {
        "id": "jxAvcQsf3eHL",
        "colab": {
          "base_uri": "https://localhost:8080/"
        },
        "outputId": "96c96067-50e4-4171-f36d-20ef9e6582ba"
      },
      "execution_count": null,
      "outputs": [
        {
          "output_type": "stream",
          "name": "stdout",
          "text": [
            "Nilai limit f(x) saat x mendekati 2 adalah (4 - pi)*cos(2)\n"
          ]
        }
      ]
    },
    {
      "cell_type": "code",
      "source": [],
      "metadata": {
        "id": "7tz3Ws_S6fj1"
      },
      "execution_count": null,
      "outputs": []
    },
    {
      "cell_type": "markdown",
      "source": [
        "#TURUNAN"
      ],
      "metadata": {
        "id": "9TWXYJkR6f2f"
      }
    },
    {
      "cell_type": "code",
      "source": [
        "x = symbols('x')\n",
        "f = x**3 + 2*x**2 + x + 1\n",
        "\n",
        "df=diff(f,x)\n",
        "print(df)"
      ],
      "metadata": {
        "id": "i0_2oWg36izk",
        "colab": {
          "base_uri": "https://localhost:8080/"
        },
        "outputId": "0f3019ed-2545-4c1f-f3dc-fb642408b733"
      },
      "execution_count": null,
      "outputs": [
        {
          "output_type": "stream",
          "name": "stdout",
          "text": [
            "3*x**2 + 4*x + 1\n"
          ]
        }
      ]
    },
    {
      "cell_type": "code",
      "source": [
        "x = symbols('x')\n",
        "f = cos(x)+sin(x)\n",
        "\n",
        "df=diff(f,x)\n",
        "print(df)"
      ],
      "metadata": {
        "colab": {
          "base_uri": "https://localhost:8080/"
        },
        "id": "4jW7-7VS71Fp",
        "outputId": "0469e2bc-9252-43af-e1f1-351618522a8e"
      },
      "execution_count": null,
      "outputs": [
        {
          "output_type": "stream",
          "name": "stdout",
          "text": [
            "-sin(x) + cos(x)\n"
          ]
        }
      ]
    },
    {
      "cell_type": "code",
      "source": [
        "x = symbols('x')\n",
        "f = log(x**2+2*x+1)\n",
        "\n",
        "df=diff(f,x)\n",
        "print(df)"
      ],
      "metadata": {
        "colab": {
          "base_uri": "https://localhost:8080/"
        },
        "id": "zgu-4yBS71PK",
        "outputId": "625564f5-0ff1-4e1b-c1f9-e0e3addcbfe5"
      },
      "execution_count": null,
      "outputs": [
        {
          "output_type": "stream",
          "name": "stdout",
          "text": [
            "(2*x + 2)/(x**2 + 2*x + 1)\n"
          ]
        }
      ]
    },
    {
      "cell_type": "code",
      "source": [
        "  \n",
        "x = symbols('x')\n",
        "f = x**3-2*x**2+3*x-1\n",
        "\n",
        "df=diff(f,x)\n",
        "print(df)"
      ],
      "metadata": {
        "colab": {
          "base_uri": "https://localhost:8080/"
        },
        "id": "7L7j01OP902f",
        "outputId": "21cd03c4-7a01-4df3-a40c-1770231bb362"
      },
      "execution_count": null,
      "outputs": [
        {
          "output_type": "stream",
          "name": "stdout",
          "text": [
            "3*x**2 - 4*x + 3\n"
          ]
        }
      ]
    },
    {
      "cell_type": "markdown",
      "source": [
        "#Nilai Optimal dan Fung"
      ],
      "metadata": {
        "id": "8-OMgMir65tD"
      }
    },
    {
      "cell_type": "code",
      "source": [],
      "metadata": {
        "id": "gCJuFF3f9xND"
      },
      "execution_count": null,
      "outputs": []
    }
  ]
}