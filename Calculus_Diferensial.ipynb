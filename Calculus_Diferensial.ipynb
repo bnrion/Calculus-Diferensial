{
  "nbformat": 4,
  "nbformat_minor": 0,
  "metadata": {
    "colab": {
      "provenance": [],
      "toc_visible": true
    },
    "kernelspec": {
      "name": "python3",
      "display_name": "Python 3"
    },
    "language_info": {
      "name": "python"
    }
  },
  "cells": [
    {
      "cell_type": "markdown",
      "source": [
        "# Kalkulus"
      ],
      "metadata": {
        "id": "dk6FfEYwfcJi"
      }
    },
    {
      "cell_type": "markdown",
      "source": [
        "## Kalkulus Diferensial"
      ],
      "metadata": {
        "id": "yd9gu50RgD_Y"
      }
    },
    {
      "cell_type": "markdown",
      "source": [
        "### Limit & Turunan"
      ],
      "metadata": {
        "id": "jvBUohh4gVWU"
      }
    },
    {
      "cell_type": "code",
      "source": [
        "#limit\n",
        "from sympy import *\n",
        "\n",
        "# Mendefinisikan variabel dan fungsi\n",
        "x = symbols('x')\n",
        "f = (x**2 - 1)/(x - 1)\n",
        "\n",
        "# Menghitung limit f(x) saat x mendekati 1\n",
        "limit_f = limit(f, x, 5)\n",
        "\n",
        "# Mencetak hasil limit\n",
        "print(\"Nilai limit f(x) saat x mendekati 1 adalah\", limit_f)\n"
      ],
      "metadata": {
        "colab": {
          "base_uri": "https://localhost:8080/"
        },
        "id": "2By8-MXIgRl7",
        "outputId": "be3d5948-a880-4e01-ae78-189afc9e9bd2"
      },
      "execution_count": null,
      "outputs": [
        {
          "output_type": "stream",
          "name": "stdout",
          "text": [
            "Nilai limit f(x) saat x mendekati 1 adalah 6\n"
          ]
        }
      ]
    },
    {
      "cell_type": "code",
      "source": [
        "print(( 5**2 - 1)/(5 - 1))"
      ],
      "metadata": {
        "colab": {
          "base_uri": "https://localhost:8080/"
        },
        "id": "HrZoapgCgQJe",
        "outputId": "c7de1f02-0319-4fac-f259-7db8d43ef07e"
      },
      "execution_count": null,
      "outputs": [
        {
          "output_type": "stream",
          "name": "stdout",
          "text": [
            "6.0\n"
          ]
        }
      ]
    },
    {
      "cell_type": "code",
      "source": [
        "#limit fungsi kuadrat\n",
        "from sympy import *\n",
        "\n",
        "# Mendefinisikan variabel dan fungsi\n",
        "x = symbols('x')\n",
        "f = (x**2 - 1)/(x - 1)\n",
        "\n",
        "# Menghitung limit f(x) saat x mendekati 1\n",
        "limit_f = limit(f, x, 1)\n",
        "\n",
        "# Mencetak hasil limit\n",
        "print(\"Nilai limit f(x) saat x mendekati 1 adalah\", limit_f)\n"
      ],
      "metadata": {
        "colab": {
          "base_uri": "https://localhost:8080/"
        },
        "id": "8JMRr8WZfep_",
        "outputId": "6d219fa9-f9d4-432a-b003-e2958018b82e"
      },
      "execution_count": null,
      "outputs": [
        {
          "output_type": "stream",
          "name": "stdout",
          "text": [
            "Nilai limit f(x) saat x mendekati 1 adalah 2\n"
          ]
        }
      ]
    },
    {
      "cell_type": "code",
      "source": [
        "print(( 1.1**2 - 1)/(1.1 - 1))"
      ],
      "metadata": {
        "colab": {
          "base_uri": "https://localhost:8080/"
        },
        "id": "zOLhdXdBjrC4",
        "outputId": "76a67a2e-3e76-4701-d2e7-597972a04a6c"
      },
      "execution_count": null,
      "outputs": [
        {
          "output_type": "stream",
          "name": "stdout",
          "text": [
            "2.1\n"
          ]
        }
      ]
    },
    {
      "cell_type": "code",
      "source": [
        "#limit trigonometri\n",
        "from sympy import *\n",
        "\n",
        "# Mendefinisikan variabel dan fungsi\n",
        "x = symbols('x')\n",
        "f = (x**2 - 4)/(x - 2) * sin(x)\n",
        "\n",
        "# Menghitung limit f(x) saat x mendekati 2\n",
        "limit_f = limit(f, x, 2)\n",
        "\n",
        "# Mencetak hasil limit\n",
        "print(\"Nilai limit f(x) saat x mendekati 2 adalah\", limit_f)"
      ],
      "metadata": {
        "colab": {
          "base_uri": "https://localhost:8080/"
        },
        "id": "fvHwWJ4Eh_6a",
        "outputId": "a6190dd7-31fb-447c-c85e-bb95a026a4a2"
      },
      "execution_count": null,
      "outputs": [
        {
          "output_type": "stream",
          "name": "stdout",
          "text": [
            "Nilai limit f(x) saat x mendekati 2 adalah 4*sin(2)\n"
          ]
        }
      ]
    },
    {
      "cell_type": "code",
      "source": [
        "#turunan\n",
        "from sympy import *\n",
        "\n",
        "# Mendefinisikan variabel dan fungsi\n",
        "x = symbols('x')\n",
        "f = x**3 + 2*x**2 + x + 1\n",
        "\n",
        "# Menghitung turunan f'(x)\n",
        "df = diff(f, x)\n",
        "\n",
        "# Mencetak hasil turunan\n",
        "print(\"Turunan dari f(x) adalah f'(x) =\", df)\n"
      ],
      "metadata": {
        "colab": {
          "base_uri": "https://localhost:8080/"
        },
        "id": "8kmKMil8iaNd",
        "outputId": "b60c0110-9858-4664-c294-222aa7619a7e"
      },
      "execution_count": null,
      "outputs": [
        {
          "output_type": "stream",
          "name": "stdout",
          "text": [
            "Turunan dari f(x) adalah f'(x) = 3*x**2 + 4*x + 1\n"
          ]
        }
      ]
    },
    {
      "cell_type": "code",
      "source": [
        "#turunan trigonometri\n",
        "from sympy import *\n",
        "\n",
        "# Mendefinisikan variabel dan fungsi\n",
        "x = symbols('x')\n",
        "f = sin(x)\n",
        "\n",
        "# Menghitung turunan f'(x)\n",
        "df = diff(f, x)\n",
        "\n",
        "# Mencetak hasil turunan\n",
        "print(\"Turunan dari f(x) adalah f'(x) =\", df)\n"
      ],
      "metadata": {
        "colab": {
          "base_uri": "https://localhost:8080/"
        },
        "id": "UCNdiyoOi2wL",
        "outputId": "43cc7257-e2b8-4107-f023-8be9422ecafa"
      },
      "execution_count": null,
      "outputs": [
        {
          "output_type": "stream",
          "name": "stdout",
          "text": [
            "Turunan dari f(x) adalah f'(x) = cos(x)\n"
          ]
        }
      ]
    },
    {
      "cell_type": "code",
      "source": [
        "#turunan & visualisasi\n",
        "import numpy as np\n",
        "import matplotlib.pyplot as plt\n",
        "from sympy import *\n",
        "\n",
        "# Mendefinisikan variabel dan fungsi\n",
        "x = symbols('x')\n",
        "f = x**3 + 2*x**2 + x + 1\n",
        "\n",
        "# Menghitung turunan f'(x)\n",
        "df = diff(f, x)\n",
        "\n",
        "# Membuat fungsi Python dari fungsi dan turunan yang dinyatakan dalam bentuk aljabarik\n",
        "f_func = lambdify(x, f, 'numpy')\n",
        "df_func = lambdify(x, df, 'numpy')\n",
        "\n",
        "# Membuat array x untuk menggambar grafik\n",
        "x_array = np.linspace(-5, 5, 1000)\n",
        "\n",
        "# Menggambar grafik fungsi\n",
        "plt.plot(x_array, f_func(x_array), label='f(x)')\n",
        "\n",
        "# Menggambar grafik turunan\n",
        "plt.plot(x_array, df_func(x_array), label=\"f'(x)\")\n",
        "\n",
        "# Menambahkan judul, label sumbu, dan legenda\n",
        "plt.title('Grafik fungsi dan turunan')\n",
        "plt.xlabel('x')\n",
        "plt.ylabel('y')\n",
        "plt.legend()\n",
        "\n",
        "# Menampilkan grafik\n",
        "plt.show()\n"
      ],
      "metadata": {
        "colab": {
          "base_uri": "https://localhost:8080/",
          "height": 295
        },
        "id": "sr-RtpP6kNq0",
        "outputId": "52922bf5-e1c9-45cb-ca2d-d11c10e4d651"
      },
      "execution_count": null,
      "outputs": [
        {
          "output_type": "display_data",
          "data": {
            "text/plain": [
              "<Figure size 432x288 with 1 Axes>"
            ],
            "image/png": "[encoded data removed]"
          },
          "metadata": {
            "needs_background": "light"
          }
        }
      ]
    },
    {
      "cell_type": "markdown",
      "source": [
        "### Jenis Fungsi"
      ],
      "metadata": {
        "id": "oOUhOvV2lRVP"
      }
    },
    {
      "cell_type": "code",
      "source": [
        "import numpy as np\n",
        "import matplotlib.pyplot as plt"
      ],
      "metadata": {
        "id": "9jkztehmkx2S"
      },
      "execution_count": null,
      "outputs": []
    },
    {
      "cell_type": "code",
      "source": [
        "# Fungsi kontinu\n",
        "def f(x):\n",
        "    return np.sin(x)\n",
        "\n",
        "x = np.linspace(-5, 5, 1000)\n",
        "y = f(x)\n",
        "\n",
        "plt.plot(x, y)\n",
        "plt.title(\"Grafik Fungsi Kontinu sin(x)\")\n",
        "plt.xlabel(\"x\")\n",
        "plt.ylabel(\"y\")\n",
        "plt.show()"
      ],
      "metadata": {
        "colab": {
          "base_uri": "https://localhost:8080/",
          "height": 295
        },
        "id": "hv6OrGYOlWBW",
        "outputId": "cae463c3-6b0f-4d7e-f30f-f15872d871bd"
      },
      "execution_count": null,
      "outputs": [
        {
          "output_type": "display_data",
          "data": {
            "text/plain": [
              "<Figure size 432x288 with 1 Axes>"
            ],
            "image/png": "[encoded data removed]"
          },
          "metadata": {
            "needs_background": "light"
          }
        }
      ]
    },
    {
      "cell_type": "code",
      "source": [
        "# Fungsi diferensial\n",
        "def g(x):\n",
        "    return 2*x + 1\n",
        "\n",
        "x = np.linspace(-5, 5, 1000)\n",
        "y = g(x)\n",
        "\n",
        "plt.plot(x, y, label=\"g(x)\")\n",
        "plt.plot(x, np.gradient(y, x), label=\"g'(x)\")\n",
        "plt.title(\"Grafik Fungsi dan Turunan g(x) = 2x + 1\")\n",
        "plt.xlabel(\"x\")\n",
        "plt.ylabel(\"y\")\n",
        "plt.legend()\n",
        "plt.show()"
      ],
      "metadata": {
        "colab": {
          "base_uri": "https://localhost:8080/",
          "height": 295
        },
        "id": "4nKd9BQqlYsf",
        "outputId": "9f9912d1-cfa2-4911-da57-110b14e86cca"
      },
      "execution_count": null,
      "outputs": [
        {
          "output_type": "display_data",
          "data": {
            "text/plain": [
              "<Figure size 432x288 with 1 Axes>"
            ],
            "image/png": "[encoded data removed]"
          },
          "metadata": {
            "needs_background": "light"
          }
        }
      ]
    },
    {
      "cell_type": "code",
      "source": [
        "# Fungsi infinity\n",
        "def h(x):\n",
        "    return 1 / x\n",
        "\n",
        "x1 = np.linspace(-5, 0.0001, 1000)\n",
        "x2 = np.linspace(0.0001, 5, 1000)\n",
        "y1 = h(x1)\n",
        "y2 = h(x2)\n",
        "\n",
        "plt.plot(x1, y1, label=\"h(x) saat x < 0\")\n",
        "plt.plot(x2, y2, label=\"h(x) saat x > 0\")\n",
        "plt.title(\"Grafik Fungsi h(x) = 1 / x\")\n",
        "plt.xlabel(\"x\")\n",
        "plt.ylabel(\"y\")\n",
        "plt.ylim([-10, 10])\n",
        "plt.legend()\n",
        "plt.show()"
      ],
      "metadata": {
        "colab": {
          "base_uri": "https://localhost:8080/",
          "height": 295
        },
        "id": "ghtRWs47lnof",
        "outputId": "7ed02afd-5e78-4bd3-ceb0-f9d71ea370a6"
      },
      "execution_count": null,
      "outputs": [
        {
          "output_type": "display_data",
          "data": {
            "text/plain": [
              "<Figure size 432x288 with 1 Axes>"
            ],
            "image/png": "[encoded data removed]"
          },
          "metadata": {
            "needs_background": "light"
          }
        }
      ]
    },
    {
      "cell_type": "markdown",
      "source": [
        "### Aplikasi turunan untuk DS"
      ],
      "metadata": {
        "id": "1GGYP5aPmFWl"
      }
    },
    {
      "cell_type": "code",
      "source": [
        "#optimasi suatu fungsi\n",
        "\n",
        "import numpy as np\n",
        "from scipy.optimize import minimize_scalar\n",
        "import matplotlib.pyplot as plt\n",
        "\n",
        "# definisi fungsi yang akan dioptimalkan\n",
        "def f(x):\n",
        "    return x**3 - 2*x + 1\n",
        "\n",
        "# membuat array x untuk plotting fungsi\n",
        "x = np.linspace(-2, 2, 100)\n",
        "y = f(x)\n",
        "\n",
        "# mencari nilai minimum menggunakan minimize_scalar dari library scipy.optimize\n",
        "res = minimize_scalar(f)\n",
        "\n",
        "# menampilkan hasil optimasi\n",
        "print(\"Nilai minimum dari fungsi adalah:\", res.x)\n",
        "\n",
        "# membuat plot fungsi\n",
        "plt.plot(x, y, label=\"f(x)\")\n",
        "\n",
        "# menandai titik minimum pada plot\n",
        "plt.plot(res.x, f(res.x), \"ro\", label=\"Minimum\")\n",
        "\n",
        "# memberi label pada sumbu-sumbu dan plot\n",
        "plt.xlabel(\"x\")\n",
        "plt.ylabel(\"y\")\n",
        "plt.title(\"Fungsi f(x) = x^3 - 2x + 1\")\n",
        "\n",
        "# menampilkan legend dan plot\n",
        "plt.legend()\n",
        "plt.show()\n"
      ],
      "metadata": {
        "colab": {
          "base_uri": "https://localhost:8080/",
          "height": 313
        },
        "id": "KVYQCYE2l1H7",
        "outputId": "a6c2938f-5565-4396-9139-94b2da91fbf2"
      },
      "execution_count": null,
      "outputs": [
        {
          "output_type": "stream",
          "name": "stdout",
          "text": [
            "Nilai minimum dari fungsi adalah: 0.8164965820792619\n"
          ]
        },
        {
          "output_type": "display_data",
          "data": {
            "text/plain": [
              "<Figure size 432x288 with 1 Axes>"
            ],
            "image/png": "[encoded data removed]"
          },
          "metadata": {
            "needs_background": "light"
          }
        }
      ]
    },
    {
      "cell_type": "code",
      "source": [
        "#optimasi dengan gradient decent\n",
        "import numpy as np\n",
        "import matplotlib.pyplot as plt\n",
        "\n",
        "# definisi fungsi yang akan dioptimalkan\n",
        "def f(x):\n",
        "    return x**3 - 2*x + 1\n",
        "\n",
        "# definisi turunan dari fungsi\n",
        "def df(x):\n",
        "    return 3*x**2 - 2\n",
        "\n",
        "# nilai awal x\n",
        "x = 2\n",
        "\n",
        "# nilai learning rate\n",
        "learning_rate = 0.1\n",
        "\n",
        "# iterasi sebanyak 20 kali\n",
        "for i in range(20):\n",
        "    # hitung turunan pada titik x\n",
        "    dx = df(x)\n",
        "\n",
        "    # update nilai x\n",
        "    x = x - learning_rate*dx\n",
        "\n",
        "    # tampilkan hasil setiap iterasi\n",
        "    print(\"Iterasi:\", i+1, \"x:\", x, \"f(x):\", f(x))\n",
        "\n",
        "# plot fungsi dan jalur optimisasi\n",
        "x_vals = np.linspace(-2, 2, 100)\n",
        "y_vals = f(x_vals)\n",
        "plt.plot(x_vals, y_vals, label=\"f(x)\")\n",
        "plt.plot(x_vals, df(x)*x_vals + f(x) - df(x)*x, label=\"Gradient Descent\")\n",
        "plt.plot(x, f(x), \"ro\", label=\"Minimum\")\n",
        "plt.xlabel(\"x\")\n",
        "plt.ylabel(\"y\")\n",
        "plt.title(\"Fungsi f(x) = x^3 - 2x + 1\")\n",
        "plt.legend()\n",
        "plt.show()\n"
      ],
      "metadata": {
        "colab": {
          "base_uri": "https://localhost:8080/",
          "height": 660
        },
        "id": "Lx3OlfQdmqkc",
        "outputId": "6df425b6-a7a3-44a1-94bb-c6144886238a"
      },
      "execution_count": null,
      "outputs": [
        {
          "output_type": "stream",
          "name": "stdout",
          "text": [
            "Iterasi: 1 x: 1.0 f(x): 0.0\n",
            "Iterasi: 2 x: 0.9 f(x): -0.07099999999999995\n",
            "Iterasi: 3 x: 0.857 f(x): -0.08457720700000015\n",
            "Iterasi: 4 x: 0.8366653 f(x): -0.08765750707790443\n",
            "Iterasi: 5 x: 0.826662652732773 f(x): -0.08840790489563277\n",
            "Iterasi: 6 x: 0.8216513103058174 f(x): -0.08859688496861828\n",
            "Iterasi: 7 x: 0.8191180475876374 f(x): -0.08864525678096857\n",
            "Iterasi: 8 x: 0.8178317348225025 f(x): -0.08865773897513352\n",
            "Iterasi: 9 x: 0.8171771108776673 f(x): -0.08866097317829658\n",
            "Iterasi: 10 x: 0.8168435817149559 f(x): -0.08866181291990394\n",
            "Iterasi: 11 x: 0.8166735506182805 f(x): -0.08866203118430782\n",
            "Iterasi: 12 x: 0.8165868441344397 f(x): -0.08866208794581265\n",
            "Iterasi: 13 x: 0.8165426219304066 f(x): -0.0886621027111727\n",
            "Iterasi: 14 x: 0.8165200659017118 f(x): -0.0886621065526203\n",
            "Iterasi: 15 x: 0.8165085604956711 f(x): -0.08866210755210657\n",
            "Iterasi: 16 x: 0.8165026916868572 f(x): -0.08866210781216721\n",
            "Iterasi: 17 x: 0.8164996980272923 f(x): -0.08866210787983464\n",
            "Iterasi: 18 x: 0.8164981709636945 f(x): -0.08866210789744189\n",
            "Iterasi: 19 x: 0.816497392007577 f(x): -0.08866210790202333\n",
            "Iterasi: 20 x: 0.8164969946610245 f(x): -0.08866210790321549\n"
          ]
        },
        {
          "output_type": "display_data",
          "data": {
            "text/plain": [
              "<Figure size 432x288 with 1 Axes>"
            ],
            "image/png": "[encoded data removed]"
          },
          "metadata": {
            "needs_background": "light"
          }
        }
      ]
    },
    {
      "cell_type": "code",
      "source": [
        "#image processing\n",
        "import cv2\n",
        "import numpy as np\n",
        "from matplotlib import pyplot as plt\n",
        "\n",
        "# load citra grayscale\n",
        "img = cv2.imread('/content/cristiano-ronaldo-7_169.jpeg', cv2.IMREAD_GRAYSCALE)\n",
        "\n",
        "# hitung turunan parsial pada sumbu x dan y\n",
        "dx = cv2.Sobel(img, cv2.CV_64F, 1, 0, ksize=3)\n",
        "dy = cv2.Sobel(img, cv2.CV_64F, 0, 1, ksize=3)\n",
        "\n",
        "# tampilkan citra asli dan hasil turunan parsial\n",
        "plt.subplot(131),plt.imshow(img, cmap='gray')\n",
        "plt.title('Citra Asli'), plt.xticks([]), plt.yticks([])\n",
        "plt.subplot(132),plt.imshow(dx, cmap='gray')\n",
        "plt.title('Turunan pada sumbu x'), plt.xticks([]), plt.yticks([])\n",
        "plt.subplot(133),plt.imshow(dy, cmap='gray')\n",
        "plt.title('Turunan pada sumbu y'), plt.xticks([]), plt.yticks([])\n",
        "plt.show()\n"
      ],
      "metadata": {
        "colab": {
          "base_uri": "https://localhost:8080/",
          "height": 262
        },
        "id": "uwLtP3zNnVnT",
        "outputId": "5518aa1d-4dd1-4665-d950-99058f9f1c0c"
      },
      "execution_count": null,
      "outputs": [
        {
          "output_type": "error",
          "ename": "error",
          "evalue": "ignored",
          "traceback": [
            "\u001b[0;31m---------------------------------------------------------------------------\u001b[0m",
            "\u001b[0;31merror\u001b[0m                                     Traceback (most recent call last)",
            "\u001b[0;32m<ipython-input-15-cf0017146e88>\u001b[0m in \u001b[0;36m<module>\u001b[0;34m\u001b[0m\n\u001b[1;32m      8\u001b[0m \u001b[0;34m\u001b[0m\u001b[0m\n\u001b[1;32m      9\u001b[0m \u001b[0;31m# hitung turunan parsial pada sumbu x dan y\u001b[0m\u001b[0;34m\u001b[0m\u001b[0;34m\u001b[0m\u001b[0;34m\u001b[0m\u001b[0m\n\u001b[0;32m---> 10\u001b[0;31m \u001b[0mdx\u001b[0m \u001b[0;34m=\u001b[0m \u001b[0mcv2\u001b[0m\u001b[0;34m.\u001b[0m\u001b[0mSobel\u001b[0m\u001b[0;34m(\u001b[0m\u001b[0mimg\u001b[0m\u001b[0;34m,\u001b[0m \u001b[0mcv2\u001b[0m\u001b[0;34m.\u001b[0m\u001b[0mCV_64F\u001b[0m\u001b[0;34m,\u001b[0m \u001b[0;36m1\u001b[0m\u001b[0;34m,\u001b[0m \u001b[0;36m0\u001b[0m\u001b[0;34m,\u001b[0m \u001b[0mksize\u001b[0m\u001b[0;34m=\u001b[0m\u001b[0;36m3\u001b[0m\u001b[0;34m)\u001b[0m\u001b[0;34m\u001b[0m\u001b[0;34m\u001b[0m\u001b[0m\n\u001b[0m\u001b[1;32m     11\u001b[0m \u001b[0mdy\u001b[0m \u001b[0;34m=\u001b[0m \u001b[0mcv2\u001b[0m\u001b[0;34m.\u001b[0m\u001b[0mSobel\u001b[0m\u001b[0;34m(\u001b[0m\u001b[0mimg\u001b[0m\u001b[0;34m,\u001b[0m \u001b[0mcv2\u001b[0m\u001b[0;34m.\u001b[0m\u001b[0mCV_64F\u001b[0m\u001b[0;34m,\u001b[0m \u001b[0;36m0\u001b[0m\u001b[0;34m,\u001b[0m \u001b[0;36m1\u001b[0m\u001b[0;34m,\u001b[0m \u001b[0mksize\u001b[0m\u001b[0;34m=\u001b[0m\u001b[0;36m3\u001b[0m\u001b[0;34m)\u001b[0m\u001b[0;34m\u001b[0m\u001b[0;34m\u001b[0m\u001b[0m\n\u001b[1;32m     12\u001b[0m \u001b[0;34m\u001b[0m\u001b[0m\n",
            "\u001b[0;31merror\u001b[0m: OpenCV(4.6.0) /io/opencv/modules/imgproc/src/deriv.cpp:419: error: (-215:Assertion failed) !_src.empty() in function 'Sobel'\n"
          ]
        }
      ]
    },
    {
      "cell_type": "code",
      "source": [
        "from google.colab import drive\n",
        "drive.mount('/content/drive')"
      ],
      "metadata": {
        "colab": {
          "base_uri": "https://localhost:8080/"
        },
        "id": "W5SDClZC1PO4",
        "outputId": "4a583924-59b9-4c36-f196-d519e5e8f9c4"
      },
      "execution_count": null,
      "outputs": [
        {
          "output_type": "stream",
          "name": "stdout",
          "text": [
            "Mounted at /content/drive\n"
          ]
        }
      ]
    },
    {
      "cell_type": "markdown",
      "source": [
        "### Konsep Multivariable"
      ],
      "metadata": {
        "id": "qmFvO4QWpLC5"
      }
    },
    {
      "cell_type": "code",
      "source": [
        "#fungsi multivariable & turunan parsial\n",
        "import sympy\n",
        "\n",
        "# definisi fungsi\n",
        "x, y = sympy.symbols('x y')\n",
        "f = x**2 + y**2\n",
        "\n",
        "# menghitung turunan parsial terhadap x dan y\n",
        "df_dx = sympy.diff(f, x)\n",
        "df_dy = sympy.diff(f, y)\n",
        "\n",
        "print(f'df/dx = {df_dx}')\n",
        "print(f'df/dy = {df_dy}')\n"
      ],
      "metadata": {
        "id": "9fRnnFXXoXet"
      },
      "execution_count": null,
      "outputs": []
    },
    {
      "cell_type": "code",
      "source": [
        "import sympy\n",
        "\n",
        "# definisikan simbol-simbol yang akan digunakan\n",
        "x, y = sympy.symbols('x y')\n",
        "\n",
        "# definisikan persamaan\n",
        "z = x**2 + 2*x*y**2 + y**2\n",
        "\n",
        "# turunan parsial terhadap x\n",
        "dz_dx = sympy.diff(z, x)\n",
        "\n",
        "# turunan parsial terhadap y\n",
        "dz_dy = sympy.diff(z, y)\n",
        "\n",
        "print('Turunan parsial terhadap x:', dz_dx)\n",
        "print('Turunan parsial terhadap y:', dz_dy)\n"
      ],
      "metadata": {
        "id": "tXphllgfpdbg"
      },
      "execution_count": null,
      "outputs": []
    },
    {
      "cell_type": "markdown",
      "source": [
        "### Aturan Derivatif"
      ],
      "metadata": {
        "id": "KPF3vuzeqfug"
      }
    },
    {
      "cell_type": "code",
      "source": [
        "#The power of rule\n",
        "import sympy as sym\n",
        "\n",
        "# Membuat variabel x\n",
        "x = sym.Symbol('x')\n",
        "\n",
        "# Membuat fungsi f(x) = x^3\n",
        "f = x**3\n",
        "\n",
        "# Menghitung turunan dari f(x)^4\n",
        "n = 1\n",
        "df = sym.diff(f**n, x)\n",
        "df = sym.simplify(df)\n",
        "\n",
        "# Menampilkan hasil\n",
        "print(df)"
      ],
      "metadata": {
        "id": "ngQ2ndxIqnkl"
      },
      "execution_count": null,
      "outputs": []
    },
    {
      "cell_type": "code",
      "source": [
        "#The constant multiple rule\n",
        "import sympy as sym\n",
        "\n",
        "# Membuat variabel x\n",
        "x = sym.Symbol('x')\n",
        "\n",
        "# Membuat fungsi f(x) = x^3\n",
        "f = x**3\n",
        "\n",
        "# Menghitung turunan dari 5*f(x)\n",
        "c = 5\n",
        "df = sym.diff(c*f, x)\n",
        "\n",
        "# Menampilkan hasil\n",
        "print(df)\n",
        "\n"
      ],
      "metadata": {
        "id": "Qmn4DBrtrCa3"
      },
      "execution_count": null,
      "outputs": []
    },
    {
      "cell_type": "code",
      "source": [
        "#The sum rule\n",
        "import sympy as sym\n",
        "\n",
        "# Membuat variabel x\n",
        "x = sym.Symbol('x')\n",
        "\n",
        "# Membuat fungsi f(x) = x^2\n",
        "f = x**4\n",
        "\n",
        "# Membuat fungsi g(x) = x^3\n",
        "g = x**9\n",
        "\n",
        "# Menghitung turunan dari f(x) + g(x)\n",
        "df = sym.diff(f + g, x)\n",
        "\n",
        "# # Menghitung turunan dari f(x) dan g(x) terpisah\n",
        "# df1 = sym.diff(f, x)\n",
        "# df2 = sym.diff(g, x)\n",
        "\n",
        "# Menampilkan hasil\n",
        "# print(df1 + df2)\n",
        "print(df)\n"
      ],
      "metadata": {
        "id": "RF3fmskrrUDv"
      },
      "execution_count": null,
      "outputs": []
    },
    {
      "cell_type": "code",
      "source": [
        "#The Product Rule\n",
        "import sympy as sym\n",
        "\n",
        "# definisi variabel dan fungsi\n",
        "x = sym.Symbol('x')\n",
        "u = 4*x**2\n",
        "v = x**3 + 1\n",
        "\n",
        "# turunan menggunakan aturan Quotient Rule\n",
        "f = u * v\n",
        "f_diff = sym.diff(f, x)\n",
        "print(f_diff)\n"
      ],
      "metadata": {
        "id": "QZOvzfiXtSPJ"
      },
      "execution_count": null,
      "outputs": []
    },
    {
      "cell_type": "code",
      "source": [
        "#The Quotient Rule\n",
        "import sympy as sym\n",
        "\n",
        "# definisi variabel dan fungsi\n",
        "x = sym.Symbol('x')\n",
        "u = 4*x**2\n",
        "v = x**3 + 1\n",
        "\n",
        "# turunan menggunakan aturan Quotient Rule\n",
        "f = u / v\n",
        "f_diff = sym.diff(f, x)\n",
        "print(f_diff)\n"
      ],
      "metadata": {
        "id": "HWLJ3Wfirzql"
      },
      "execution_count": null,
      "outputs": []
    },
    {
      "cell_type": "code",
      "source": [],
      "metadata": {
        "id": "h-dFztBqsy_m"
      },
      "execution_count": null,
      "outputs": []
    }
  ]
}